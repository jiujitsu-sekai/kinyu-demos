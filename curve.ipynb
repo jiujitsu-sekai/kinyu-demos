{
 "cells": [
  {
   "cell_type": "markdown",
   "metadata": {},
   "source": [
    "# Interest-rate swaps\n",
    "\n",
    "Copyright (&copy;) 2004, 2005, 2006, 2007 StatPro Italia srl\n",
    "\n",
    "This file is part of QuantLib, a free-software/open-source library\n",
    "for financial quantitative analysts and developers - https://www.quantlib.org/\n",
    "\n",
    "QuantLib is free software: you can redistribute it and/or modify it under the\n",
    "terms of the QuantLib license.  You should have received a copy of the\n",
    "license along with this program; if not, please email\n",
    "<quantlib-dev@lists.sf.net>. The license is also available online at\n",
    "<https://www.quantlib.org/license.shtml>.\n",
    "\n",
    "This program is distributed in the hope that it will be useful, but WITHOUT\n",
    "ANY WARRANTY; without even the implied warranty of MERCHANTABILITY or FITNESS\n",
    "FOR A PARTICULAR PURPOSE.  See the license for more details."
   ]
  },
  {
   "cell_type": "code",
   "execution_count": 34,
   "metadata": {},
   "outputs": [],
   "source": [
    "import QuantLib as ql\n",
    "from matplotlib import pyplot as plt\n",
    "import pandas as pd\n",
    "%matplotlib inline"
   ]
  },
  {
   "cell_type": "markdown",
   "metadata": {},
   "source": [
    "### Global data"
   ]
  },
  {
   "cell_type": "code",
   "execution_count": 3,
   "metadata": {},
   "outputs": [],
   "source": [
    "calendar = ql.TARGET()\n",
    "todaysDate = ql.Date(6, ql.November, 2001)\n",
    "ql.Settings.instance().evaluationDate = todaysDate\n",
    "settlementDate = ql.Date(8, ql.November, 2001)"
   ]
  },
  {
   "cell_type": "markdown",
   "metadata": {},
   "source": [
    "### Market quotes"
   ]
  },
  {
   "cell_type": "code",
   "execution_count": 4,
   "metadata": {},
   "outputs": [],
   "source": [
    "deposits = {\n",
    "    (3, ql.Months): 0.0363,\n",
    "}"
   ]
  },
  {
   "cell_type": "code",
   "execution_count": 5,
   "metadata": {},
   "outputs": [],
   "source": [
    "FRAs = {(3, 6): 0.037125, (6, 9): 0.037125, (9, 12): 0.037125}"
   ]
  },
  {
   "cell_type": "code",
   "execution_count": 6,
   "metadata": {},
   "outputs": [],
   "source": [
    "futures = {\n",
    "    ql.Date(19, 12, 2001): 96.2875,\n",
    "    ql.Date(20, 3, 2002): 96.7875,\n",
    "    ql.Date(19, 6, 2002): 96.9875,\n",
    "    ql.Date(18, 9, 2002): 96.6875,\n",
    "    ql.Date(18, 12, 2002): 96.4875,\n",
    "    ql.Date(19, 3, 2003): 96.3875,\n",
    "    ql.Date(18, 6, 2003): 96.2875,\n",
    "    ql.Date(17, 9, 2003): 96.0875,\n",
    "}"
   ]
  },
  {
   "cell_type": "code",
   "execution_count": 7,
   "metadata": {},
   "outputs": [],
   "source": [
    "swaps = {\n",
    "    (2, ql.Years): 0.037125,\n",
    "    (3, ql.Years): 0.0398,\n",
    "    (5, ql.Years): 0.0443,\n",
    "    (10, ql.Years): 0.05165,\n",
    "    (15, ql.Years): 0.055175,\n",
    "}"
   ]
  },
  {
   "cell_type": "markdown",
   "metadata": {},
   "source": [
    "We'll convert them to `Quote` objects..."
   ]
  },
  {
   "cell_type": "code",
   "execution_count": 8,
   "metadata": {},
   "outputs": [],
   "source": [
    "for n, unit in deposits.keys():\n",
    "    deposits[(n, unit)] = ql.SimpleQuote(deposits[(n, unit)])\n",
    "for n, m in FRAs.keys():\n",
    "    FRAs[(n, m)] = ql.SimpleQuote(FRAs[(n, m)])\n",
    "for d in futures.keys():\n",
    "    futures[d] = ql.SimpleQuote(futures[d])\n",
    "for n, unit in swaps.keys():\n",
    "    swaps[(n, unit)] = ql.SimpleQuote(swaps[(n, unit)])"
   ]
  },
  {
   "cell_type": "markdown",
   "metadata": {},
   "source": [
    "...and build rate helpers."
   ]
  },
  {
   "cell_type": "code",
   "execution_count": 9,
   "metadata": {},
   "outputs": [],
   "source": [
    "dayCounter = ql.Actual360()\n",
    "settlementDays = 2\n",
    "depositHelpers = [\n",
    "    ql.DepositRateHelper(\n",
    "        ql.QuoteHandle(deposits[(n, unit)]),\n",
    "        ql.Period(n, unit),\n",
    "        settlementDays,\n",
    "        calendar,\n",
    "        ql.ModifiedFollowing,\n",
    "        False,\n",
    "        dayCounter,\n",
    "    )\n",
    "    for n, unit in deposits.keys()\n",
    "]"
   ]
  },
  {
   "cell_type": "code",
   "execution_count": 10,
   "metadata": {},
   "outputs": [],
   "source": [
    "dayCounter = ql.Actual360()\n",
    "settlementDays = 2\n",
    "fraHelpers = [\n",
    "    ql.FraRateHelper(\n",
    "        ql.QuoteHandle(FRAs[(n, m)]), n, m, settlementDays, calendar, ql.ModifiedFollowing, False, dayCounter\n",
    "    )\n",
    "    for n, m in FRAs.keys()\n",
    "]"
   ]
  },
  {
   "cell_type": "code",
   "execution_count": 11,
   "metadata": {},
   "outputs": [],
   "source": [
    "dayCounter = ql.Actual360()\n",
    "months = 3\n",
    "futuresHelpers = [\n",
    "    ql.FuturesRateHelper(\n",
    "        ql.QuoteHandle(futures[d]),\n",
    "        d,\n",
    "        months,\n",
    "        calendar,\n",
    "        ql.ModifiedFollowing,\n",
    "        True,\n",
    "        dayCounter,\n",
    "        ql.QuoteHandle(ql.SimpleQuote(0.0)),\n",
    "    )\n",
    "    for d in futures.keys()\n",
    "]"
   ]
  },
  {
   "cell_type": "markdown",
   "metadata": {},
   "source": [
    "The discount curve for the swaps will come from elsewhere. A real application would use some kind of risk-free curve; here we're using a flat one for convenience."
   ]
  },
  {
   "cell_type": "code",
   "execution_count": 12,
   "metadata": {},
   "outputs": [],
   "source": [
    "discountTermStructure = ql.YieldTermStructureHandle(\n",
    "    ql.FlatForward(settlementDate, 0.04, ql.Actual360()))"
   ]
  },
  {
   "cell_type": "code",
   "execution_count": 13,
   "metadata": {},
   "outputs": [],
   "source": [
    "settlementDays = 2\n",
    "fixedLegFrequency = ql.Annual\n",
    "fixedLegTenor = ql.Period(1, ql.Years)\n",
    "fixedLegAdjustment = ql.Unadjusted\n",
    "fixedLegDayCounter = ql.Thirty360()\n",
    "floatingLegFrequency = ql.Quarterly\n",
    "floatingLegTenor = ql.Period(3, ql.Months)\n",
    "floatingLegAdjustment = ql.ModifiedFollowing\n",
    "swapHelpers = [\n",
    "    ql.SwapRateHelper(\n",
    "        ql.QuoteHandle(swaps[(n, unit)]),\n",
    "        ql.Period(n, unit),\n",
    "        calendar,\n",
    "        fixedLegFrequency,\n",
    "        fixedLegAdjustment,\n",
    "        fixedLegDayCounter,\n",
    "        ql.Euribor3M(),\n",
    "        ql.QuoteHandle(),\n",
    "        ql.Period(\"0D\"),\n",
    "        discountTermStructure,\n",
    "    )\n",
    "    for n, unit in swaps.keys()\n",
    "]"
   ]
  },
  {
   "cell_type": "markdown",
   "metadata": {},
   "source": [
    "### Term structure construction"
   ]
  },
  {
   "cell_type": "code",
   "execution_count": 14,
   "metadata": {},
   "outputs": [],
   "source": [
    "forecastTermStructure = ql.RelinkableYieldTermStructureHandle()"
   ]
  },
  {
   "cell_type": "code",
   "execution_count": 15,
   "metadata": {},
   "outputs": [],
   "source": [
    "helpers = depositHelpers + futuresHelpers + swapHelpers[1:]\n",
    "depoFuturesSwapCurve = ql.PiecewiseFlatForward(settlementDate, helpers, ql.Actual360())"
   ]
  },
  {
   "cell_type": "code",
   "execution_count": 16,
   "metadata": {},
   "outputs": [],
   "source": [
    "helpers = depositHelpers + fraHelpers + swapHelpers\n",
    "depoFraSwapCurve = ql.PiecewiseFlatForward(settlementDate, helpers, ql.Actual360())"
   ]
  },
  {
   "cell_type": "markdown",
   "metadata": {},
   "source": [
    "### Experiment"
   ]
  },
  {
   "cell_type": "code",
   "execution_count": 39,
   "metadata": {
    "scrolled": true
   },
   "outputs": [
    {
     "data": {
      "text/html": [
       "<div>\n",
       "<style scoped>\n",
       "    .dataframe tbody tr th:only-of-type {\n",
       "        vertical-align: middle;\n",
       "    }\n",
       "\n",
       "    .dataframe tbody tr th {\n",
       "        vertical-align: top;\n",
       "    }\n",
       "\n",
       "    .dataframe thead th {\n",
       "        text-align: right;\n",
       "    }\n",
       "</style>\n",
       "<table border=\"1\" class=\"dataframe\">\n",
       "  <thead>\n",
       "    <tr style=\"text-align: right;\">\n",
       "      <th></th>\n",
       "      <th>date</th>\n",
       "      <th>rate</th>\n",
       "    </tr>\n",
       "  </thead>\n",
       "  <tbody>\n",
       "    <tr>\n",
       "      <th>0</th>\n",
       "      <td>2001-11-08</td>\n",
       "      <td>0.036133</td>\n",
       "    </tr>\n",
       "    <tr>\n",
       "      <th>1</th>\n",
       "      <td>2002-02-08</td>\n",
       "      <td>0.036133</td>\n",
       "    </tr>\n",
       "    <tr>\n",
       "      <th>2</th>\n",
       "      <td>2002-03-19</td>\n",
       "      <td>0.038028</td>\n",
       "    </tr>\n",
       "    <tr>\n",
       "      <th>3</th>\n",
       "      <td>2002-06-20</td>\n",
       "      <td>0.031994</td>\n",
       "    </tr>\n",
       "    <tr>\n",
       "      <th>4</th>\n",
       "      <td>2002-09-19</td>\n",
       "      <td>0.029988</td>\n",
       "    </tr>\n",
       "    <tr>\n",
       "      <th>5</th>\n",
       "      <td>2002-12-18</td>\n",
       "      <td>0.033020</td>\n",
       "    </tr>\n",
       "    <tr>\n",
       "      <th>6</th>\n",
       "      <td>2003-03-18</td>\n",
       "      <td>0.034972</td>\n",
       "    </tr>\n",
       "    <tr>\n",
       "      <th>7</th>\n",
       "      <td>2003-06-19</td>\n",
       "      <td>0.035959</td>\n",
       "    </tr>\n",
       "    <tr>\n",
       "      <th>8</th>\n",
       "      <td>2003-09-18</td>\n",
       "      <td>0.036961</td>\n",
       "    </tr>\n",
       "    <tr>\n",
       "      <th>9</th>\n",
       "      <td>2003-12-17</td>\n",
       "      <td>0.038955</td>\n",
       "    </tr>\n",
       "    <tr>\n",
       "      <th>10</th>\n",
       "      <td>2004-11-08</td>\n",
       "      <td>0.047312</td>\n",
       "    </tr>\n",
       "    <tr>\n",
       "      <th>11</th>\n",
       "      <td>2006-11-08</td>\n",
       "      <td>0.049972</td>\n",
       "    </tr>\n",
       "    <tr>\n",
       "      <th>12</th>\n",
       "      <td>2011-11-08</td>\n",
       "      <td>0.058443</td>\n",
       "    </tr>\n",
       "    <tr>\n",
       "      <th>13</th>\n",
       "      <td>2016-11-08</td>\n",
       "      <td>0.062357</td>\n",
       "    </tr>\n",
       "  </tbody>\n",
       "</table>\n",
       "</div>"
      ],
      "text/plain": [
       "          date      rate\n",
       "0   2001-11-08  0.036133\n",
       "1   2002-02-08  0.036133\n",
       "2   2002-03-19  0.038028\n",
       "3   2002-06-20  0.031994\n",
       "4   2002-09-19  0.029988\n",
       "5   2002-12-18  0.033020\n",
       "6   2003-03-18  0.034972\n",
       "7   2003-06-19  0.035959\n",
       "8   2003-09-18  0.036961\n",
       "9   2003-12-17  0.038955\n",
       "10  2004-11-08  0.047312\n",
       "11  2006-11-08  0.049972\n",
       "12  2011-11-08  0.058443\n",
       "13  2016-11-08  0.062357"
      ]
     },
     "execution_count": 39,
     "metadata": {},
     "output_type": "execute_result"
    }
   ],
   "source": [
    "data = [(d.to_date(), r) for d, r in depoFuturesSwapCurve.nodes()]\n",
    "swapCurve = pd.DataFrame(data, columns=['date', 'rate'])\n",
    "swapCurve"
   ]
  },
  {
   "cell_type": "code",
   "execution_count": 40,
   "metadata": {},
   "outputs": [
    {
     "data": {
      "text/plain": [
       "<matplotlib.axes._subplots.AxesSubplot at 0x7f138ee37f70>"
      ]
     },
     "execution_count": 40,
     "metadata": {},
     "output_type": "execute_result"
    },
    {
     "data": {
      "image/png": "[encoded data removed]",
      "text/plain": [
       "<Figure size 432x288 with 1 Axes>"
      ]
     },
     "metadata": {
      "needs_background": "light"
     },
     "output_type": "display_data"
    }
   ],
   "source": [
    "swapCurve.plot()"
   ]
  },
  {
   "cell_type": "code",
   "execution_count": 58,
   "metadata": {},
   "outputs": [
    {
     "data": {
      "text/plain": [
       "<matplotlib.axes._subplots.AxesSubplot at 0x7f138e768040>"
      ]
     },
     "execution_count": 58,
     "metadata": {},
     "output_type": "execute_result"
    },
    {
     "data": {
      "image/png": "[encoded data removed]",
      "text/plain": [
       "<Figure size 432x288 with 1 Axes>"
      ]
     },
     "metadata": {
      "needs_background": "light"
     },
     "output_type": "display_data"
    }
   ],
   "source": [
    "data = []\n",
    "for i in range(60):\n",
    "    dt = calendar.advance(depoFuturesSwapCurve.referenceDate(), i, ql.Months)\n",
    "    rate = depoFuturesSwapCurve.forwardRate(dt, calendar.advance(dt, 3, ql.Months), ql.Actual360(), ql.Simple).rate()\n",
    "    data.append((dt.to_date(), rate))\n",
    "    \n",
    "pd.DataFrame(data, columns=['date', 'rate']).plot()"
   ]
  },
  {
   "cell_type": "code",
   "execution_count": 56,
   "metadata": {},
   "outputs": [
    {
     "data": {
      "text/plain": [
       "Date(8,11,2001)"
      ]
     },
     "execution_count": 56,
     "metadata": {},
     "output_type": "execute_result"
    }
   ],
   "source": [
    "depoFuturesSwapCurve.referenceDate()"
   ]
  }
 ],
 "metadata": {
  "jupytext": {
   "formats": "py:percent"
  },
  "kernelspec": {
   "display_name": "Python 3",
   "language": "python",
   "name": "python3"
  },
  "language_info": {
   "codemirror_mode": {
    "name": "ipython",
    "version": 3
   },
   "file_extension": ".py",
   "mimetype": "text/x-python",
   "name": "python",
   "nbconvert_exporter": "python",
   "pygments_lexer": "ipython3",
   "version": "3.8.2"
  }
 },
 "nbformat": 4,
 "nbformat_minor": 4
}
