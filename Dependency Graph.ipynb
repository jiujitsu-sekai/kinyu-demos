{
 "cells": [
  {
   "cell_type": "markdown",
   "metadata": {},
   "source": [
    "Author: Tony Yum\n",
    "\n",
    "[GitHub](https://github.com/jiujitsu-sekai/kinyu-demos)\n",
    "[Linkedin](https://www.linkedin.com/in/tonyyum/)\n",
    "\n",
    "# Overridable Dependency Graph\n",
    "\n",
    "In this demo I would like to show the concept of a overridable dependency graph and a very simple implementation to demonstrate it.\n",
    "\n",
    "## Why?\n",
    "\n",
    "In finance/banking one of the most common questions asked is \"what is my risk\". One way to define risk is what if I change a risk factor in the market, what would the impact of my portfolio be.\n",
    "\n",
    "In essence we want to override a piece of market data and re-price a portfolio. This would mean every function/node in the tree that represent your calculation would need to be executed again for each senario. Think about this.\n",
    "\n",
    "* We bumped the FX Spot. Do we really need to rebuild all relevent curves for a swap?\n",
    "* We bumped the Eq technology index, do we need to reprice all our exotic FX Options?\n",
    "\n",
    "In many banks, these questions are effeciently answered with a dependency graph. i.e. if you overrode the value of a node, only ancesters of that node would need to be revaluated. This is the graph that would be demonstrated here.\n",
    "\n",
    "As a bonus, calculation on graph is much easier to visualise and understand and we will see that later.\n",
    "\n",
    "## What it isn't\n",
    "\n",
    "There are all sort of varied and wonderful graph libraries in python. \n",
    "\n",
    "Although the concept of the graph in this writing can be adapted to work with those (I could write about them another time), it aims to show a different idea.\n",
    "\n",
    "Below are some honourable mentions.\n",
    "\n",
    "* tensor static graph. This allows python code to configure what calculation is needed and when we say \"go\" CPU and GPU runs highly optimised machine code without going near python making it great for tensor calculations and of course applied in ML.\n",
    "* pipdeptree: pip package dependency\n",
    "* pycallgraph. Call graph.\n",
    "* dask graph. Used for scheduling distributed compute tasks.\n",
    "\n",
    "\n",
    "## The Demo\n",
    "\n",
    "Below shows how a very basic graph system can be implemented by leveraging pythong ast library and decorators.\n",
    "\n",
    "Graphviz would be used to display the graph"
   ]
  },
  {
   "cell_type": "markdown",
   "metadata": {},
   "source": [
    "## Imports"
   ]
  },
  {
   "cell_type": "code",
   "execution_count": 1,
   "metadata": {},
   "outputs": [],
   "source": [
    "import ast\n",
    "import inspect\n",
    "import time\n",
    "import itertools\n",
    "from frozendict import frozendict\n",
    "from IPython.display import display\n",
    "import graphviz\n",
    "import inspect\n",
    "from collections import namedtuple\n",
    "from typing import Dict, List\n",
    "from matplotlib import pyplot as plt\n",
    "%matplotlib inline"
   ]
  },
  {
   "cell_type": "markdown",
   "metadata": {},
   "source": [
    "## Defining a few function\n",
    "\n",
    "Let us define a few functions. As we can there is a tree of dependency here.\n",
    "\n",
    "* a -> b, c\n",
    "* c -> d"
   ]
  },
  {
   "cell_type": "code",
   "execution_count": 2,
   "metadata": {},
   "outputs": [],
   "source": [
    "def a():\n",
    "    return b() + c()\n",
    "\n",
    "def b():\n",
    "    return 2\n",
    "\n",
    "  \n",
    "def c():\n",
    "    return d() + 1\n",
    "\n",
    "def d():\n",
    "    return 5\n",
    "\n",
    "funcs = 'abcd'"
   ]
  },
  {
   "cell_type": "markdown",
   "metadata": {},
   "source": [
    "## Parse the dependency tree\n",
    "\n",
    "Python is a dynamic laugage that let's us easily see the source of a function, parse source into an AST\n",
    "and gives us the tools to inspect and manipuate that tree.\n",
    "\n",
    "Let's take a look at function *a* and see what it depends on."
   ]
  },
  {
   "cell_type": "code",
   "execution_count": 3,
   "metadata": {},
   "outputs": [
    {
     "data": {
      "text/plain": [
       "['b', 'c']"
      ]
     },
     "execution_count": 3,
     "metadata": {},
     "output_type": "execute_result"
    }
   ],
   "source": [
    "class Parser(ast.NodeVisitor):\n",
    "    def __init__(self):\n",
    "        self.dependency = []\n",
    "\n",
    "    def generic_visit(self, node):        \n",
    "        if type(node).__name__ == 'Call':            \n",
    "            self.dependency.append(node.func.id)            \n",
    "        ast.NodeVisitor.generic_visit(self, node)\n",
    "        \n",
    "p = Parser()\n",
    "p.visit(ast.parse(inspect.getsource(a)))\n",
    "p.dependency"
   ]
  },
  {
   "cell_type": "markdown",
   "metadata": {},
   "source": [
    "Okay. That was easy. Now let's get the dependencies of all the functions we're interested in"
   ]
  },
  {
   "cell_type": "code",
   "execution_count": 4,
   "metadata": {},
   "outputs": [
    {
     "data": {
      "text/plain": [
       "[GraphEdge(node1='a', node2='b'),\n",
       " GraphEdge(node1='a', node2='c'),\n",
       " GraphEdge(node1='c', node2='d')]"
      ]
     },
     "execution_count": 4,
     "metadata": {},
     "output_type": "execute_result"
    }
   ],
   "source": [
    "GraphNode = namedtuple('GraphNode', ['func_name', 'code'])\n",
    "GraphEdge = namedtuple('GraphEdge', ['node1', 'node2'])\n",
    "\n",
    "class Graph:\n",
    "    def __init__(self):\n",
    "        self.nodes: Dict[str, GraphNode] = {}\n",
    "        self.edges: List[GraphEdge] = []\n",
    "        \n",
    "    def add_node(self, node: GraphNode):\n",
    "        self.nodes[node.func_name] = node\n",
    "        \n",
    "\n",
    "    def add_edge(self, edge: GraphEdge):\n",
    "        self.edges.append(edge)\n",
    "\n",
    "g = Graph()\n",
    "\n",
    "for func_name in funcs:\n",
    "    func = globals()[func_name]\n",
    "    code = inspect.getsource(func)\n",
    "    p = Parser()\n",
    "    p.visit(ast.parse(code))\n",
    "    g.add_node(GraphNode(func_name, code))\n",
    "    for dep in p.dependency:        \n",
    "        g.add_edge(GraphEdge(func_name, dep))\n",
    "        \n",
    "g.edges"
   ]
  },
  {
   "cell_type": "markdown",
   "metadata": {},
   "source": [
    "## Visualising the tree\n",
    "\n",
    "Let's use graphviz to show us how the tree looks like"
   ]
  },
  {
   "cell_type": "code",
   "execution_count": 5,
   "metadata": {},
   "outputs": [
    {
     "data": {
      "image/svg+xml": [
       "<?xml version=\"1.0\" encoding=\"UTF-8\" standalone=\"no\"?>\n",
       "<!DOCTYPE svg PUBLIC \"-//W3C//DTD SVG 1.1//EN\"\n",
       " \"http://www.w3.org/Graphics/SVG/1.1/DTD/svg11.dtd\">\n",
       "<!-- Generated by graphviz version 2.43.0 (0)\n",
       " -->\n",
       "<!-- Title: D Pages: 1 -->\n",
       "<svg width=\"348pt\" height=\"241pt\"\n",
       " viewBox=\"0.00 0.00 348.22 241.22\" xmlns=\"http://www.w3.org/2000/svg\" xmlns:xlink=\"http://www.w3.org/1999/xlink\">\n",
       "<g id=\"graph0\" class=\"graph\" transform=\"scale(1 1) rotate(0) translate(4 237.22)\">\n",
       "<title>D</title>\n",
       "<polygon fill=\"white\" stroke=\"transparent\" points=\"-4,4 -4,-237.22 344.22,-237.22 344.22,4 -4,4\"/>\n",
       "<!-- a -->\n",
       "<g id=\"node1\" class=\"node\">\n",
       "<title>a</title>\n",
       "<ellipse fill=\"none\" stroke=\"black\" cx=\"155.47\" cy=\"-206.35\" rx=\"101.23\" ry=\"26.74\"/>\n",
       "<text text-anchor=\"start\" x=\"91.97\" y=\"-210.15\" font-family=\"Times,serif\" font-size=\"14.00\">def a():</text>\n",
       "<text text-anchor=\"start\" x=\"91.97\" y=\"-195.15\" font-family=\"Times,serif\" font-size=\"14.00\"> &#160;&#160;&#160;return b() + c()</text>\n",
       "</g>\n",
       "<!-- b -->\n",
       "<g id=\"node2\" class=\"node\">\n",
       "<title>b</title>\n",
       "<ellipse fill=\"none\" stroke=\"black\" cx=\"66.47\" cy=\"-116.61\" rx=\"66.44\" ry=\"26.74\"/>\n",
       "<text text-anchor=\"start\" x=\"27.47\" y=\"-120.41\" font-family=\"Times,serif\" font-size=\"14.00\">def b():</text>\n",
       "<text text-anchor=\"start\" x=\"27.47\" y=\"-105.41\" font-family=\"Times,serif\" font-size=\"14.00\"> &#160;&#160;&#160;return 2</text>\n",
       "</g>\n",
       "<!-- a&#45;&gt;b -->\n",
       "<g id=\"edge1\" class=\"edge\">\n",
       "<title>a&#45;&gt;b</title>\n",
       "<path fill=\"none\" stroke=\"black\" d=\"M128.32,-181.4C118.49,-171.7 107.16,-160.54 96.83,-150.35\"/>\n",
       "<path fill=\"none\" stroke=\"transparent\" d=\"M129.73,-179.97C119.89,-170.28 108.57,-159.11 98.24,-148.93\"/>\n",
       "<path fill=\"none\" stroke=\"black\" d=\"M131.13,-178.55C121.3,-168.86 109.97,-157.69 99.64,-147.51\"/>\n",
       "<polygon fill=\"black\" stroke=\"black\" points=\"100.51,-146.25 90.93,-141.73 95.59,-151.24 100.51,-146.25\"/>\n",
       "</g>\n",
       "<!-- c -->\n",
       "<g id=\"node3\" class=\"node\">\n",
       "<title>c</title>\n",
       "<ellipse fill=\"none\" stroke=\"black\" cx=\"245.47\" cy=\"-116.61\" rx=\"94.51\" ry=\"26.74\"/>\n",
       "<text text-anchor=\"start\" x=\"186.47\" y=\"-120.41\" font-family=\"Times,serif\" font-size=\"14.00\">def c():</text>\n",
       "<text text-anchor=\"start\" x=\"186.47\" y=\"-105.41\" font-family=\"Times,serif\" font-size=\"14.00\"> &#160;&#160;&#160;return d() + 1</text>\n",
       "</g>\n",
       "<!-- a&#45;&gt;c -->\n",
       "<g id=\"edge2\" class=\"edge\">\n",
       "<title>a&#45;&gt;c</title>\n",
       "<path fill=\"none\" stroke=\"black\" d=\"M180.1,-178.54C189.8,-169.09 200.92,-158.24 211.15,-148.27\"/>\n",
       "<path fill=\"none\" stroke=\"transparent\" d=\"M181.5,-179.97C191.19,-170.52 202.32,-159.67 212.55,-149.7\"/>\n",
       "<path fill=\"none\" stroke=\"black\" d=\"M182.9,-181.4C192.59,-171.96 203.72,-161.11 213.95,-151.13\"/>\n",
       "<polygon fill=\"black\" stroke=\"black\" points=\"215.09,-152.11 219.81,-142.63 210.2,-147.1 215.09,-152.11\"/>\n",
       "</g>\n",
       "<!-- d -->\n",
       "<g id=\"node4\" class=\"node\">\n",
       "<title>d</title>\n",
       "<ellipse fill=\"none\" stroke=\"black\" cx=\"245.47\" cy=\"-26.87\" rx=\"66.44\" ry=\"26.74\"/>\n",
       "<text text-anchor=\"start\" x=\"206.47\" y=\"-30.67\" font-family=\"Times,serif\" font-size=\"14.00\">def d():</text>\n",
       "<text text-anchor=\"start\" x=\"206.47\" y=\"-15.67\" font-family=\"Times,serif\" font-size=\"14.00\"> &#160;&#160;&#160;return 5</text>\n",
       "</g>\n",
       "<!-- c&#45;&gt;d -->\n",
       "<g id=\"edge3\" class=\"edge\">\n",
       "<title>c&#45;&gt;d</title>\n",
       "<path fill=\"none\" stroke=\"black\" d=\"M243.47,-89.29C243.47,-81.32 243.47,-72.43 243.47,-63.94\"/>\n",
       "<path fill=\"none\" stroke=\"transparent\" d=\"M245.47,-89.29C245.47,-81.32 245.47,-72.43 245.47,-63.94\"/>\n",
       "<path fill=\"none\" stroke=\"black\" d=\"M247.47,-89.29C247.47,-81.32 247.47,-72.43 247.47,-63.94\"/>\n",
       "<polygon fill=\"black\" stroke=\"black\" points=\"248.97,-63.87 245.47,-53.87 241.97,-63.87 248.97,-63.87\"/>\n",
       "</g>\n",
       "</g>\n",
       "</svg>\n"
      ],
      "text/plain": [
       "<graphviz.files.Source at 0x7fe6a29c3ca0>"
      ]
     },
     "metadata": {},
     "output_type": "display_data"
    }
   ],
   "source": [
    "arrow_format = '[color=\"black:invis:black\"]'\n",
    "\n",
    "def render_node(n: GraphNode):\n",
    "    code = '\\l'.join(n.code.split('\\n'))\n",
    "    return f'{n.func_name} [label=\"{code}\"]'\n",
    "\n",
    "graph_def = '''digraph D {{   \n",
    "{nodes}\n",
    "    \n",
    "{edges}\n",
    "}}'''.format(\n",
    "    nodes = '\\n'.join('  ' + render_node(n) for n in g.nodes.values()),\n",
    "    edges = '\\n'.join(f'  {e.node1} -> {e.node2} {arrow_format}' for e in g.edges)\n",
    ")\n",
    "\n",
    "display(graphviz.Source(graph_def))"
   ]
  },
  {
   "cell_type": "markdown",
   "metadata": {},
   "source": [
    "# Next Step\n",
    "\n",
    "Wow that was easy. However the above overly simplified to help understand what are trying to achieve.\n",
    "\n",
    "Let's do a few things\n",
    "\n",
    "1. Create a Graph class to encapsulate the graph logic.\n",
    "2. Use a decorator to transform the functions into a graph node function.\n",
    "3. How about parameters? what if our function *c* was instead\n",
    "\n",
    "```python\n",
    "def c(x):\n",
    "    return d() + x\n",
    "```\n",
    "\n",
    "Then surely c(1) and c(2) would be a different node in a grpah. So let's take that into account\n",
    "\n",
    "4. Add support for overriding nodes\n"
   ]
  },
  {
   "cell_type": "markdown",
   "metadata": {},
   "source": [
    "## Node and the key\n",
    "\n",
    "Let's define *GNode* and *GNodeKey* to store the node and the key to the node respectively."
   ]
  },
  {
   "cell_type": "code",
   "execution_count": 6,
   "metadata": {},
   "outputs": [],
   "source": [
    "GNode = namedtuple('GNode', ['value', 'children'])\n",
    "GNodeKey = namedtuple('GNodeKey', ['func', 'args', 'kwargs'])"
   ]
  },
  {
   "cell_type": "markdown",
   "metadata": {},
   "source": [
    "## The Graph\n",
    "\n",
    "We'll create a Graph class that would be responsible for\n",
    "\n",
    "* Keeping track of nodes GNodeKey->GNode\n",
    "* Support overriding nodes with a value\n",
    "* Ability to invalide a node or clear the entire graph\n",
    "* hand functions to get the edges"
   ]
  },
  {
   "cell_type": "code",
   "execution_count": 7,
   "metadata": {},
   "outputs": [],
   "source": [
    "class Graph:\n",
    "    def __init__(self):\n",
    "        self.nodes: Dict[GNodeKey, GNode] = {}\n",
    "        self.func_defs: Dict[str, str] = {}\n",
    "        self.trace_calls = True\n",
    "            \n",
    "    def set_node(self, k: GNodeKey, n: GNode):\n",
    "        self.nodes[k] = n\n",
    "        \n",
    "    def is_node(self, func_name: str):\n",
    "        return func_name in self.func_defs\n",
    "    \n",
    "    def get_node(self, k: GNodeKey):\n",
    "        return self.nodes.get(k)\n",
    "    \n",
    "    def clear(self):\n",
    "        self.nodes = {}\n",
    "    \n",
    "    def add_func_def(self, func_name: str, source: str):\n",
    "        self.func_defs[func_name] = source\n",
    "        \n",
    "    def override_value(self, func_name, val, *args, **kwargs):\n",
    "        # for simplicity ignore the fact that you could\n",
    "        # set value with args and kwargs\n",
    "\n",
    "        # Override\n",
    "        key = GNodeKey(func_name, args, frozendict(kwargs))\n",
    "        self.set_node(key, GNode(val, []))\n",
    "\n",
    "        # Invalidate ancesters\n",
    "        ancesters = self._get_ancesters(key)\n",
    "        for a in ancesters:            \n",
    "            self.invalidate(a)\n",
    "            \n",
    "    def invalidate(self, k: GNodeKey):\n",
    "        del self.nodes[k]\n",
    "        \n",
    "    def get_edges(self):\n",
    "        return list(itertools.chain.from_iterable(\n",
    "            self._get_edges_for_node(*x) for x in self.nodes.items()))\n",
    "        \n",
    "    def _get_edges_for_node(self, k: GNodeKey, n: GNode):\n",
    "        return [(k, x) for x in n.children]\n",
    "    \n",
    "    def _get_ancesters(self, k: GNodeKey):\n",
    "        parents = [p_k for p_k, p_n in self.nodes.items() if k in p_n.children]\n",
    "\n",
    "        return parents + list(itertools.chain.from_iterable(self._get_ancesters(x) for x in parents))\n",
    "    \n",
    "graph = Graph()"
   ]
  },
  {
   "cell_type": "markdown",
   "metadata": {},
   "source": [
    "## Enhanced Parser\n",
    "\n",
    "Added logic to get the arg and kwargs for dependency. Since foo(x=1) and foo(x=2) would be 2 different nodes"
   ]
  },
  {
   "cell_type": "code",
   "execution_count": 8,
   "metadata": {},
   "outputs": [],
   "source": [
    "class Parser(ast.NodeVisitor):\n",
    "    def __init__(self):\n",
    "        self.dependency = []\n",
    "\n",
    "    def generic_visit(self, node):        \n",
    "        if type(node).__name__ == 'Call':                        \n",
    "            args = tuple(x.value for x in node.args)\n",
    "            kwargs = frozendict((kw.arg, kw.value.value) for kw in node.keywords)\n",
    "            self.dependency.append(GNodeKey(node.func.id, args, kwargs))\n",
    "      \n",
    "        ast.NodeVisitor.generic_visit(self, node)"
   ]
  },
  {
   "cell_type": "markdown",
   "metadata": {},
   "source": [
    "# The Decorator\n",
    "\n",
    "We will now create a decorator g_func that would transform the logic of the func so that it'll\n",
    "\n",
    "1. Register itself as a node function to the graph\n",
    "2. When called for the first time, cache the value on the graph\n",
    "3. On subsequent calls, just get it from the cache."
   ]
  },
  {
   "cell_type": "code",
   "execution_count": 9,
   "metadata": {},
   "outputs": [],
   "source": [
    "def g_func(func):    \n",
    "    p = Parser()\n",
    "    source = inspect.getsource(func)\n",
    "    tree = ast.parse(source)\n",
    "    p.visit(tree)\n",
    "    func_name = tree.body[0].name\n",
    "\n",
    "    def f(*args, **kwargs):\n",
    "        key = GNodeKey(func_name, args, frozendict(kwargs))\n",
    "        cached_node = graph.get_node(key)\n",
    "        if cached_node:\n",
    "            return cached_node.value\n",
    "        if graph.trace_calls:\n",
    "            print('Calling: {}, args={}, kwargs={}'.format(func_name, args, kwargs))\n",
    "            \n",
    "        graph.add_func_def(func_name, source)\n",
    "        value = func(*args, **kwargs)\n",
    "        children = [x for x in p.dependency if graph.is_node(x.func)]\n",
    "        node = GNode(value, children)\n",
    "        graph.set_node(key, node)\n",
    "        return value\n",
    "\n",
    "    return f"
   ]
  },
  {
   "cell_type": "markdown",
   "metadata": {},
   "source": [
    "## Functions that goes in the tree\n",
    "\n",
    "We now define the graph functions a, b, c, d, e, and f by decorating them with g_func.\n",
    "\n",
    "We will also define\n",
    "\n",
    "* off_graph_func: which demonstrates that calling non-decoarted function would not create a node in the tree\n",
    "* expensive_function: This function takes 1s to calculate and is used to demonstrate why a dependency gives a massive performance benefit"
   ]
  },
  {
   "cell_type": "code",
   "execution_count": 10,
   "metadata": {},
   "outputs": [],
   "source": [
    "def off_graph_func():\n",
    "    return 1\n",
    "\n",
    "def expensive_function(x):\n",
    "    time.sleep(1)\n",
    "    return x\n",
    "\n",
    "@g_func\n",
    "def a():\n",
    "    return b(x=3) + c(1) ** 2 + off_graph_func()\n",
    "\n",
    "@g_func\n",
    "def b(x=2):\n",
    "    return x * x\n",
    "\n",
    "@g_func\n",
    "def c(x):\n",
    "    if d() > 0:\n",
    "        return x * e()\n",
    "    else:\n",
    "        return x * f()\n",
    "\n",
    "@g_func\n",
    "def d():\n",
    "    return 5\n",
    "\n",
    "@g_func\n",
    "def e():\n",
    "    return expensive_function(6)\n",
    "\n",
    "@g_func\n",
    "def f():\n",
    "    return expensive_function(7)"
   ]
  },
  {
   "cell_type": "markdown",
   "metadata": {},
   "source": [
    "## Node Cache\n",
    "\n",
    "The graph.trace_call is on by default and we can see which functions are actually executed for the first time.\n",
    "\n",
    "It also shows that it takes about a second to execute all nodes on the tree."
   ]
  },
  {
   "cell_type": "code",
   "execution_count": 11,
   "metadata": {},
   "outputs": [
    {
     "name": "stdout",
     "output_type": "stream",
     "text": [
      "Calling: a, args=(), kwargs={}\n",
      "Calling: b, args=(), kwargs={'x': 3}\n",
      "Calling: c, args=(1,), kwargs={}\n",
      "Calling: d, args=(), kwargs={}\n",
      "Calling: e, args=(), kwargs={}\n",
      "CPU times: user 6.37 ms, sys: 3.34 ms, total: 9.71 ms\n",
      "Wall time: 1.01 s\n"
     ]
    },
    {
     "data": {
      "text/plain": [
       "46"
      ]
     },
     "execution_count": 11,
     "metadata": {},
     "output_type": "execute_result"
    }
   ],
   "source": [
    "%%time\n",
    "\n",
    "a()"
   ]
  },
  {
   "cell_type": "markdown",
   "metadata": {},
   "source": [
    "But if we call a() again, this time it returns almost instantaneously since it simply gets the result from the cache.\n",
    "\n",
    "We can also see that there are no trace printed."
   ]
  },
  {
   "cell_type": "code",
   "execution_count": 12,
   "metadata": {},
   "outputs": [
    {
     "name": "stdout",
     "output_type": "stream",
     "text": [
      "CPU times: user 67 µs, sys: 35 µs, total: 102 µs\n",
      "Wall time: 108 µs\n"
     ]
    },
    {
     "data": {
      "text/plain": [
       "46"
      ]
     },
     "execution_count": 12,
     "metadata": {},
     "output_type": "execute_result"
    }
   ],
   "source": [
    "%%time\n",
    "\n",
    "a()"
   ]
  },
  {
   "cell_type": "markdown",
   "metadata": {},
   "source": [
    "## Visualising the 2nd Tree\n",
    "\n",
    "Let's draw the tree and observe the following.\n",
    "\n",
    "* c \"could\" call f() if d() <= 0. However d evaluated to 5 and so f is pruned from the tree\n",
    "* It is really easy to understand the calculation with any on-graph functions. There are no debugger required.\n",
    "* off-graph functions are not part of the tree (also notice that off-graph calls makes it more difficult to understand.)"
   ]
  },
  {
   "cell_type": "code",
   "execution_count": 13,
   "metadata": {},
   "outputs": [
    {
     "data": {
      "image/svg+xml": [
       "<?xml version=\"1.0\" encoding=\"UTF-8\" standalone=\"no\"?>\n",
       "<!DOCTYPE svg PUBLIC \"-//W3C//DTD SVG 1.1//EN\"\n",
       " \"http://www.w3.org/Graphics/SVG/1.1/DTD/svg11.dtd\">\n",
       "<!-- Generated by graphviz version 2.43.0 (0)\n",
       " -->\n",
       "<!-- Title: D Pages: 1 -->\n",
       "<svg width=\"662pt\" height=\"521pt\"\n",
       " viewBox=\"0.00 0.00 662.19 521.23\" xmlns=\"http://www.w3.org/2000/svg\" xmlns:xlink=\"http://www.w3.org/1999/xlink\">\n",
       "<g id=\"graph0\" class=\"graph\" transform=\"scale(1 1) rotate(0) translate(4 517.23)\">\n",
       "<title>D</title>\n",
       "<polygon fill=\"white\" stroke=\"transparent\" points=\"-4,4 -4,-517.23 658.19,-517.23 658.19,4 -4,4\"/>\n",
       "<!-- &#45;4940122909181724968 -->\n",
       "<g id=\"node1\" class=\"node\">\n",
       "<title>&#45;4940122909181724968</title>\n",
       "<ellipse fill=\"none\" stroke=\"black\" cx=\"136.78\" cy=\"-256.62\" rx=\"98.99\" ry=\"70.01\"/>\n",
       "<text text-anchor=\"start\" x=\"74.78\" y=\"-290.92\" font-family=\"Times,serif\" font-size=\"14.00\">@g_func</text>\n",
       "<text text-anchor=\"start\" x=\"74.78\" y=\"-275.92\" font-family=\"Times,serif\" font-size=\"14.00\">def b(x=2):</text>\n",
       "<text text-anchor=\"start\" x=\"74.78\" y=\"-260.92\" font-family=\"Times,serif\" font-size=\"14.00\"> &#160;&#160;&#160;return x * x</text>\n",
       "<text text-anchor=\"start\" x=\"74.78\" y=\"-229.92\" font-family=\"Times,serif\" font-size=\"14.00\">[kwargs]: {&#39;x&#39;: 3}</text>\n",
       "<text text-anchor=\"start\" x=\"74.78\" y=\"-214.92\" font-family=\"Times,serif\" font-size=\"14.00\">[Result]: 9</text>\n",
       "</g>\n",
       "<!-- &#45;1418232251508224683 -->\n",
       "<g id=\"node2\" class=\"node\">\n",
       "<title>&#45;1418232251508224683</title>\n",
       "<ellipse fill=\"none\" stroke=\"black\" cx=\"228.78\" cy=\"-59.4\" rx=\"66.44\" ry=\"59.29\"/>\n",
       "<text text-anchor=\"start\" x=\"189.78\" y=\"-86.2\" font-family=\"Times,serif\" font-size=\"14.00\">@g_func</text>\n",
       "<text text-anchor=\"start\" x=\"189.78\" y=\"-71.2\" font-family=\"Times,serif\" font-size=\"14.00\">def d():</text>\n",
       "<text text-anchor=\"start\" x=\"189.78\" y=\"-56.2\" font-family=\"Times,serif\" font-size=\"14.00\"> &#160;&#160;&#160;return 5</text>\n",
       "<text text-anchor=\"start\" x=\"189.78\" y=\"-25.2\" font-family=\"Times,serif\" font-size=\"14.00\">[Result]: 5</text>\n",
       "</g>\n",
       "<!-- &#45;128695585500027228 -->\n",
       "<g id=\"node3\" class=\"node\">\n",
       "<title>&#45;128695585500027228</title>\n",
       "<ellipse fill=\"none\" stroke=\"black\" cx=\"483.78\" cy=\"-59.4\" rx=\"170.33\" ry=\"59.29\"/>\n",
       "<text text-anchor=\"start\" x=\"371.28\" y=\"-86.2\" font-family=\"Times,serif\" font-size=\"14.00\">@g_func</text>\n",
       "<text text-anchor=\"start\" x=\"371.28\" y=\"-71.2\" font-family=\"Times,serif\" font-size=\"14.00\">def e():</text>\n",
       "<text text-anchor=\"start\" x=\"371.28\" y=\"-56.2\" font-family=\"Times,serif\" font-size=\"14.00\"> &#160;&#160;&#160;return expensive_function(6)</text>\n",
       "<text text-anchor=\"start\" x=\"371.28\" y=\"-25.2\" font-family=\"Times,serif\" font-size=\"14.00\">[Result]: 6</text>\n",
       "</g>\n",
       "<!-- 6602389567758363928 -->\n",
       "<g id=\"node4\" class=\"node\">\n",
       "<title>6602389567758363928</title>\n",
       "<ellipse fill=\"none\" stroke=\"black\" cx=\"356.78\" cy=\"-256.62\" rx=\"103.48\" ry=\"101.65\"/>\n",
       "<text text-anchor=\"start\" x=\"291.78\" y=\"-313.42\" font-family=\"Times,serif\" font-size=\"14.00\">@g_func</text>\n",
       "<text text-anchor=\"start\" x=\"291.78\" y=\"-298.42\" font-family=\"Times,serif\" font-size=\"14.00\">def c(x):</text>\n",
       "<text text-anchor=\"start\" x=\"291.78\" y=\"-283.42\" font-family=\"Times,serif\" font-size=\"14.00\"> &#160;&#160;&#160;if d() &gt; 0:</text>\n",
       "<text text-anchor=\"start\" x=\"291.78\" y=\"-268.42\" font-family=\"Times,serif\" font-size=\"14.00\"> &#160;&#160;&#160;&#160;&#160;&#160;&#160;return x * e()</text>\n",
       "<text text-anchor=\"start\" x=\"291.78\" y=\"-253.42\" font-family=\"Times,serif\" font-size=\"14.00\"> &#160;&#160;&#160;else:</text>\n",
       "<text text-anchor=\"start\" x=\"291.78\" y=\"-238.42\" font-family=\"Times,serif\" font-size=\"14.00\"> &#160;&#160;&#160;&#160;&#160;&#160;&#160;return x * f()</text>\n",
       "<text text-anchor=\"start\" x=\"291.78\" y=\"-207.42\" font-family=\"Times,serif\" font-size=\"14.00\">[args]: (1,)</text>\n",
       "<text text-anchor=\"start\" x=\"291.78\" y=\"-192.42\" font-family=\"Times,serif\" font-size=\"14.00\">[Result]: 6</text>\n",
       "</g>\n",
       "<!-- 6602389567758363928&#45;&gt;&#45;1418232251508224683 -->\n",
       "<g id=\"edge1\" class=\"edge\">\n",
       "<title>6602389567758363928&#45;&gt;&#45;1418232251508224683</title>\n",
       "<path fill=\"none\" stroke=\"black\" d=\"M299.34,-171.66C288.08,-154.49 276.48,-136.8 265.96,-120.75\"/>\n",
       "<path fill=\"none\" stroke=\"transparent\" d=\"M301.01,-170.56C289.75,-153.39 278.15,-135.7 267.63,-119.65\"/>\n",
       "<path fill=\"none\" stroke=\"black\" d=\"M302.68,-169.46C291.43,-152.3 279.83,-134.6 269.31,-118.56\"/>\n",
       "<polygon fill=\"black\" stroke=\"black\" points=\"270.32,-117.36 261.91,-110.92 264.46,-121.2 270.32,-117.36\"/>\n",
       "</g>\n",
       "<!-- 6602389567758363928&#45;&gt;&#45;128695585500027228 -->\n",
       "<g id=\"edge2\" class=\"edge\">\n",
       "<title>6602389567758363928&#45;&gt;&#45;128695585500027228</title>\n",
       "<path fill=\"none\" stroke=\"black\" d=\"M410.44,-169.47C420.13,-154.58 430.07,-139.29 439.35,-125.02\"/>\n",
       "<path fill=\"none\" stroke=\"transparent\" d=\"M412.11,-170.56C421.8,-155.67 431.75,-140.38 441.03,-126.12\"/>\n",
       "<path fill=\"none\" stroke=\"black\" d=\"M413.79,-171.65C423.48,-156.76 433.42,-141.47 442.7,-127.21\"/>\n",
       "<polygon fill=\"black\" stroke=\"black\" points=\"444.19,-127.67 446.71,-117.38 438.32,-123.85 444.19,-127.67\"/>\n",
       "</g>\n",
       "<!-- 7209267100940078047 -->\n",
       "<g id=\"node5\" class=\"node\">\n",
       "<title>7209267100940078047</title>\n",
       "<ellipse fill=\"none\" stroke=\"black\" cx=\"246.78\" cy=\"-453.84\" rx=\"246.56\" ry=\"59.29\"/>\n",
       "<text text-anchor=\"start\" x=\"80.28\" y=\"-480.64\" font-family=\"Times,serif\" font-size=\"14.00\">@g_func</text>\n",
       "<text text-anchor=\"start\" x=\"80.28\" y=\"-465.64\" font-family=\"Times,serif\" font-size=\"14.00\">def a():</text>\n",
       "<text text-anchor=\"start\" x=\"80.28\" y=\"-450.64\" font-family=\"Times,serif\" font-size=\"14.00\"> &#160;&#160;&#160;return b(x=3) + c(1) ** 2 + off_graph_func()</text>\n",
       "<text text-anchor=\"start\" x=\"80.28\" y=\"-419.64\" font-family=\"Times,serif\" font-size=\"14.00\">[Result]: 46</text>\n",
       "</g>\n",
       "<!-- 7209267100940078047&#45;&gt;&#45;4940122909181724968 -->\n",
       "<g id=\"edge3\" class=\"edge\">\n",
       "<title>7209267100940078047&#45;&gt;&#45;4940122909181724968</title>\n",
       "<path fill=\"none\" stroke=\"black\" d=\"M212.33,-395.78C201.03,-375.71 188.21,-352.97 176.31,-331.85\"/>\n",
       "<path fill=\"none\" stroke=\"transparent\" d=\"M214.07,-394.79C202.77,-374.73 189.95,-351.98 178.05,-330.86\"/>\n",
       "<path fill=\"none\" stroke=\"black\" d=\"M215.82,-393.81C204.51,-373.75 191.7,-351 179.79,-329.88\"/>\n",
       "<polygon fill=\"black\" stroke=\"black\" points=\"180.97,-328.92 173.02,-321.92 174.87,-332.35 180.97,-328.92\"/>\n",
       "</g>\n",
       "<!-- 7209267100940078047&#45;&gt;6602389567758363928 -->\n",
       "<g id=\"edge4\" class=\"edge\">\n",
       "<title>7209267100940078047&#45;&gt;6602389567758363928</title>\n",
       "<path fill=\"none\" stroke=\"black\" d=\"M277.74,-393.81C284.81,-381.27 292.46,-367.69 300.12,-354.1\"/>\n",
       "<path fill=\"none\" stroke=\"transparent\" d=\"M279.49,-394.79C286.55,-382.25 294.21,-368.67 301.86,-355.08\"/>\n",
       "<path fill=\"none\" stroke=\"black\" d=\"M281.23,-395.78C288.29,-383.24 295.95,-369.65 303.6,-356.07\"/>\n",
       "<polygon fill=\"black\" stroke=\"black\" points=\"305.02,-356.6 306.88,-346.17 298.93,-353.16 305.02,-356.6\"/>\n",
       "</g>\n",
       "</g>\n",
       "</svg>\n"
      ],
      "text/plain": [
       "<graphviz.files.Source at 0x7fe6a29c3eb0>"
      ]
     },
     "metadata": {},
     "output_type": "display_data"
    }
   ],
   "source": [
    "arrow_format = '[color=\"black:invis:black\"]'\n",
    "\n",
    "def render_node(k: GNodeKey, v: GNode):\n",
    "    detail = '\\l'.join(graph.func_defs[k.func].split('\\n'))\n",
    "    if k.args:\n",
    "        detail += f'\\l[args]: {k.args}'\n",
    "       \n",
    "    if k.kwargs:\n",
    "        detail += f'\\l[kwargs]: {dict(k.kwargs)}'\n",
    "\n",
    "    detail += f'\\l[Result]: {v.value}\\l'\n",
    "    return f'{hash(k)} [label=\"{detail}\"]'\n",
    "\n",
    "def draw_graph():\n",
    "    graph_def = '''digraph D {{   \n",
    "{nodes}\n",
    "{edges}\n",
    "}}'''.format(\n",
    "        nodes = '\\n'.join('  ' + render_node(*x) for x in graph.nodes.items()),\n",
    "        edges = '\\n'.join(f'  {hash(n1)} -> {hash(n2)} {arrow_format}' for n1, n2 in graph.get_edges())\n",
    "    )\n",
    "\n",
    "    display(graphviz.Source(graph_def))\n",
    "    \n",
    "draw_graph()"
   ]
  },
  {
   "cell_type": "markdown",
   "metadata": {},
   "source": [
    "# Override\n",
    "\n",
    "Now let's override c or more specifically override c(1). "
   ]
  },
  {
   "cell_type": "code",
   "execution_count": 14,
   "metadata": {},
   "outputs": [],
   "source": [
    "graph.override_value('c', 10, 1)"
   ]
  },
  {
   "cell_type": "markdown",
   "metadata": {},
   "source": [
    "Since b is cached and c is overriden, only a needs to be recalculated. \n",
    "\n",
    "This is evidence both from the trace-call prints and the timing log."
   ]
  },
  {
   "cell_type": "code",
   "execution_count": 15,
   "metadata": {},
   "outputs": [
    {
     "name": "stdout",
     "output_type": "stream",
     "text": [
      "Calling: a, args=(), kwargs={}\n",
      "CPU times: user 312 µs, sys: 162 µs, total: 474 µs\n",
      "Wall time: 208 µs\n"
     ]
    },
    {
     "data": {
      "text/plain": [
       "110"
      ]
     },
     "execution_count": 15,
     "metadata": {},
     "output_type": "execute_result"
    }
   ],
   "source": [
    "%%time\n",
    "a()"
   ]
  },
  {
   "cell_type": "markdown",
   "metadata": {},
   "source": [
    "Let's look at the graph.\n",
    "\n",
    "We can see that a depend only on b and c which both requires no calculation.\n",
    "\n",
    "d and e are still in the graph. If we were to later call e() it would not need to call the expensive_function to give us the result."
   ]
  },
  {
   "cell_type": "code",
   "execution_count": 16,
   "metadata": {},
   "outputs": [
    {
     "data": {
      "image/svg+xml": [
       "<?xml version=\"1.0\" encoding=\"UTF-8\" standalone=\"no\"?>\n",
       "<!DOCTYPE svg PUBLIC \"-//W3C//DTD SVG 1.1//EN\"\n",
       " \"http://www.w3.org/Graphics/SVG/1.1/DTD/svg11.dtd\">\n",
       "<!-- Generated by graphviz version 2.43.0 (0)\n",
       " -->\n",
       "<!-- Title: D Pages: 1 -->\n",
       "<svg width=\"1011pt\" height=\"366pt\"\n",
       " viewBox=\"0.00 0.00 1011.19 366.44\" xmlns=\"http://www.w3.org/2000/svg\" xmlns:xlink=\"http://www.w3.org/1999/xlink\">\n",
       "<g id=\"graph0\" class=\"graph\" transform=\"scale(1 1) rotate(0) translate(4 362.44)\">\n",
       "<title>D</title>\n",
       "<polygon fill=\"white\" stroke=\"transparent\" points=\"-4,4 -4,-362.44 1007.19,-362.44 1007.19,4 -4,4\"/>\n",
       "<!-- &#45;4940122909181724968 -->\n",
       "<g id=\"node1\" class=\"node\">\n",
       "<title>&#45;4940122909181724968</title>\n",
       "<ellipse fill=\"none\" stroke=\"black\" cx=\"136.78\" cy=\"-101.82\" rx=\"98.99\" ry=\"70.01\"/>\n",
       "<text text-anchor=\"start\" x=\"74.78\" y=\"-136.12\" font-family=\"Times,serif\" font-size=\"14.00\">@g_func</text>\n",
       "<text text-anchor=\"start\" x=\"74.78\" y=\"-121.12\" font-family=\"Times,serif\" font-size=\"14.00\">def b(x=2):</text>\n",
       "<text text-anchor=\"start\" x=\"74.78\" y=\"-106.12\" font-family=\"Times,serif\" font-size=\"14.00\"> &#160;&#160;&#160;return x * x</text>\n",
       "<text text-anchor=\"start\" x=\"74.78\" y=\"-75.12\" font-family=\"Times,serif\" font-size=\"14.00\">[kwargs]: {&#39;x&#39;: 3}</text>\n",
       "<text text-anchor=\"start\" x=\"74.78\" y=\"-60.12\" font-family=\"Times,serif\" font-size=\"14.00\">[Result]: 9</text>\n",
       "</g>\n",
       "<!-- &#45;1418232251508224683 -->\n",
       "<g id=\"node2\" class=\"node\">\n",
       "<title>&#45;1418232251508224683</title>\n",
       "<ellipse fill=\"none\" stroke=\"black\" cx=\"577.78\" cy=\"-299.04\" rx=\"66.44\" ry=\"59.29\"/>\n",
       "<text text-anchor=\"start\" x=\"538.78\" y=\"-325.84\" font-family=\"Times,serif\" font-size=\"14.00\">@g_func</text>\n",
       "<text text-anchor=\"start\" x=\"538.78\" y=\"-310.84\" font-family=\"Times,serif\" font-size=\"14.00\">def d():</text>\n",
       "<text text-anchor=\"start\" x=\"538.78\" y=\"-295.84\" font-family=\"Times,serif\" font-size=\"14.00\"> &#160;&#160;&#160;return 5</text>\n",
       "<text text-anchor=\"start\" x=\"538.78\" y=\"-264.84\" font-family=\"Times,serif\" font-size=\"14.00\">[Result]: 5</text>\n",
       "</g>\n",
       "<!-- &#45;128695585500027228 -->\n",
       "<g id=\"node3\" class=\"node\">\n",
       "<title>&#45;128695585500027228</title>\n",
       "<ellipse fill=\"none\" stroke=\"black\" cx=\"832.78\" cy=\"-299.04\" rx=\"170.33\" ry=\"59.29\"/>\n",
       "<text text-anchor=\"start\" x=\"720.28\" y=\"-325.84\" font-family=\"Times,serif\" font-size=\"14.00\">@g_func</text>\n",
       "<text text-anchor=\"start\" x=\"720.28\" y=\"-310.84\" font-family=\"Times,serif\" font-size=\"14.00\">def e():</text>\n",
       "<text text-anchor=\"start\" x=\"720.28\" y=\"-295.84\" font-family=\"Times,serif\" font-size=\"14.00\"> &#160;&#160;&#160;return expensive_function(6)</text>\n",
       "<text text-anchor=\"start\" x=\"720.28\" y=\"-264.84\" font-family=\"Times,serif\" font-size=\"14.00\">[Result]: 6</text>\n",
       "</g>\n",
       "<!-- 6602389567758363928 -->\n",
       "<g id=\"node4\" class=\"node\">\n",
       "<title>6602389567758363928</title>\n",
       "<ellipse fill=\"none\" stroke=\"black\" cx=\"356.78\" cy=\"-101.82\" rx=\"103.48\" ry=\"101.65\"/>\n",
       "<text text-anchor=\"start\" x=\"291.78\" y=\"-158.62\" font-family=\"Times,serif\" font-size=\"14.00\">@g_func</text>\n",
       "<text text-anchor=\"start\" x=\"291.78\" y=\"-143.62\" font-family=\"Times,serif\" font-size=\"14.00\">def c(x):</text>\n",
       "<text text-anchor=\"start\" x=\"291.78\" y=\"-128.62\" font-family=\"Times,serif\" font-size=\"14.00\"> &#160;&#160;&#160;if d() &gt; 0:</text>\n",
       "<text text-anchor=\"start\" x=\"291.78\" y=\"-113.62\" font-family=\"Times,serif\" font-size=\"14.00\"> &#160;&#160;&#160;&#160;&#160;&#160;&#160;return x * e()</text>\n",
       "<text text-anchor=\"start\" x=\"291.78\" y=\"-98.62\" font-family=\"Times,serif\" font-size=\"14.00\"> &#160;&#160;&#160;else:</text>\n",
       "<text text-anchor=\"start\" x=\"291.78\" y=\"-83.62\" font-family=\"Times,serif\" font-size=\"14.00\"> &#160;&#160;&#160;&#160;&#160;&#160;&#160;return x * f()</text>\n",
       "<text text-anchor=\"start\" x=\"291.78\" y=\"-52.62\" font-family=\"Times,serif\" font-size=\"14.00\">[args]: (1,)</text>\n",
       "<text text-anchor=\"start\" x=\"291.78\" y=\"-37.62\" font-family=\"Times,serif\" font-size=\"14.00\">[Result]: 10</text>\n",
       "</g>\n",
       "<!-- 7209267100940078047 -->\n",
       "<g id=\"node5\" class=\"node\">\n",
       "<title>7209267100940078047</title>\n",
       "<ellipse fill=\"none\" stroke=\"black\" cx=\"246.78\" cy=\"-299.04\" rx=\"246.56\" ry=\"59.29\"/>\n",
       "<text text-anchor=\"start\" x=\"80.28\" y=\"-325.84\" font-family=\"Times,serif\" font-size=\"14.00\">@g_func</text>\n",
       "<text text-anchor=\"start\" x=\"80.28\" y=\"-310.84\" font-family=\"Times,serif\" font-size=\"14.00\">def a():</text>\n",
       "<text text-anchor=\"start\" x=\"80.28\" y=\"-295.84\" font-family=\"Times,serif\" font-size=\"14.00\"> &#160;&#160;&#160;return b(x=3) + c(1) ** 2 + off_graph_func()</text>\n",
       "<text text-anchor=\"start\" x=\"80.28\" y=\"-264.84\" font-family=\"Times,serif\" font-size=\"14.00\">[Result]: 110</text>\n",
       "</g>\n",
       "<!-- 7209267100940078047&#45;&gt;&#45;4940122909181724968 -->\n",
       "<g id=\"edge1\" class=\"edge\">\n",
       "<title>7209267100940078047&#45;&gt;&#45;4940122909181724968</title>\n",
       "<path fill=\"none\" stroke=\"black\" d=\"M212.33,-240.98C201.03,-220.92 188.21,-198.17 176.31,-177.05\"/>\n",
       "<path fill=\"none\" stroke=\"transparent\" d=\"M214.07,-240C202.77,-219.94 189.95,-197.19 178.05,-176.07\"/>\n",
       "<path fill=\"none\" stroke=\"black\" d=\"M215.82,-239.02C204.51,-218.96 191.7,-196.21 179.79,-175.09\"/>\n",
       "<polygon fill=\"black\" stroke=\"black\" points=\"180.97,-174.12 173.02,-167.13 174.87,-177.56 180.97,-174.12\"/>\n",
       "</g>\n",
       "<!-- 7209267100940078047&#45;&gt;6602389567758363928 -->\n",
       "<g id=\"edge2\" class=\"edge\">\n",
       "<title>7209267100940078047&#45;&gt;6602389567758363928</title>\n",
       "<path fill=\"none\" stroke=\"black\" d=\"M277.74,-239.02C284.81,-226.48 292.46,-212.89 300.12,-199.31\"/>\n",
       "<path fill=\"none\" stroke=\"transparent\" d=\"M279.49,-240C286.55,-227.46 294.21,-213.87 301.86,-200.29\"/>\n",
       "<path fill=\"none\" stroke=\"black\" d=\"M281.23,-240.98C288.29,-228.44 295.95,-214.86 303.6,-201.27\"/>\n",
       "<polygon fill=\"black\" stroke=\"black\" points=\"305.02,-201.8 306.88,-191.37 298.93,-198.37 305.02,-201.8\"/>\n",
       "</g>\n",
       "</g>\n",
       "</svg>\n"
      ],
      "text/plain": [
       "<graphviz.files.Source at 0x7fe6c5d90ac0>"
      ]
     },
     "metadata": {},
     "output_type": "display_data"
    }
   ],
   "source": [
    "draw_graph()"
   ]
  },
  {
   "cell_type": "markdown",
   "metadata": {},
   "source": [
    "## Same function different node\n",
    "\n",
    "A node in the tree is defined by not only the function, but also the args and kwargs.\n",
    "\n",
    "Let's demonstrate this by creating a new function h which call b with different kwargs. \n",
    "\n",
    "We would see 3 different nodes represending b. "
   ]
  },
  {
   "cell_type": "code",
   "execution_count": 17,
   "metadata": {},
   "outputs": [
    {
     "data": {
      "image/svg+xml": [
       "<?xml version=\"1.0\" encoding=\"UTF-8\" standalone=\"no\"?>\n",
       "<!DOCTYPE svg PUBLIC \"-//W3C//DTD SVG 1.1//EN\"\n",
       " \"http://www.w3.org/Graphics/SVG/1.1/DTD/svg11.dtd\">\n",
       "<!-- Generated by graphviz version 2.43.0 (0)\n",
       " -->\n",
       "<!-- Title: D Pages: 1 -->\n",
       "<svg width=\"638pt\" height=\"303pt\"\n",
       " viewBox=\"0.00 0.00 637.99 302.80\" xmlns=\"http://www.w3.org/2000/svg\" xmlns:xlink=\"http://www.w3.org/1999/xlink\">\n",
       "<g id=\"graph0\" class=\"graph\" transform=\"scale(1 1) rotate(0) translate(4 298.8)\">\n",
       "<title>D</title>\n",
       "<polygon fill=\"white\" stroke=\"transparent\" points=\"-4,4 -4,-298.8 633.99,-298.8 633.99,4 -4,4\"/>\n",
       "<!-- &#45;7795974675115468159 -->\n",
       "<g id=\"node1\" class=\"node\">\n",
       "<title>&#45;7795974675115468159</title>\n",
       "<ellipse fill=\"none\" stroke=\"black\" cx=\"98.99\" cy=\"-70\" rx=\"98.99\" ry=\"70.01\"/>\n",
       "<text text-anchor=\"start\" x=\"36.99\" y=\"-104.3\" font-family=\"Times,serif\" font-size=\"14.00\">@g_func</text>\n",
       "<text text-anchor=\"start\" x=\"36.99\" y=\"-89.3\" font-family=\"Times,serif\" font-size=\"14.00\">def b(x=2):</text>\n",
       "<text text-anchor=\"start\" x=\"36.99\" y=\"-74.3\" font-family=\"Times,serif\" font-size=\"14.00\"> &#160;&#160;&#160;return x * x</text>\n",
       "<text text-anchor=\"start\" x=\"36.99\" y=\"-43.3\" font-family=\"Times,serif\" font-size=\"14.00\">[kwargs]: {&#39;x&#39;: 0}</text>\n",
       "<text text-anchor=\"start\" x=\"36.99\" y=\"-28.3\" font-family=\"Times,serif\" font-size=\"14.00\">[Result]: 0</text>\n",
       "</g>\n",
       "<!-- 7940338014384298006 -->\n",
       "<g id=\"node2\" class=\"node\">\n",
       "<title>7940338014384298006</title>\n",
       "<ellipse fill=\"none\" stroke=\"black\" cx=\"314.99\" cy=\"-70\" rx=\"98.99\" ry=\"70.01\"/>\n",
       "<text text-anchor=\"start\" x=\"252.99\" y=\"-104.3\" font-family=\"Times,serif\" font-size=\"14.00\">@g_func</text>\n",
       "<text text-anchor=\"start\" x=\"252.99\" y=\"-89.3\" font-family=\"Times,serif\" font-size=\"14.00\">def b(x=2):</text>\n",
       "<text text-anchor=\"start\" x=\"252.99\" y=\"-74.3\" font-family=\"Times,serif\" font-size=\"14.00\"> &#160;&#160;&#160;return x * x</text>\n",
       "<text text-anchor=\"start\" x=\"252.99\" y=\"-43.3\" font-family=\"Times,serif\" font-size=\"14.00\">[kwargs]: {&#39;x&#39;: 1}</text>\n",
       "<text text-anchor=\"start\" x=\"252.99\" y=\"-28.3\" font-family=\"Times,serif\" font-size=\"14.00\">[Result]: 1</text>\n",
       "</g>\n",
       "<!-- 1435270433569361060 -->\n",
       "<g id=\"node3\" class=\"node\">\n",
       "<title>1435270433569361060</title>\n",
       "<ellipse fill=\"none\" stroke=\"black\" cx=\"530.99\" cy=\"-70\" rx=\"98.99\" ry=\"70.01\"/>\n",
       "<text text-anchor=\"start\" x=\"468.99\" y=\"-104.3\" font-family=\"Times,serif\" font-size=\"14.00\">@g_func</text>\n",
       "<text text-anchor=\"start\" x=\"468.99\" y=\"-89.3\" font-family=\"Times,serif\" font-size=\"14.00\">def b(x=2):</text>\n",
       "<text text-anchor=\"start\" x=\"468.99\" y=\"-74.3\" font-family=\"Times,serif\" font-size=\"14.00\"> &#160;&#160;&#160;return x * x</text>\n",
       "<text text-anchor=\"start\" x=\"468.99\" y=\"-43.3\" font-family=\"Times,serif\" font-size=\"14.00\">[kwargs]: {&#39;x&#39;: 2}</text>\n",
       "<text text-anchor=\"start\" x=\"468.99\" y=\"-28.3\" font-family=\"Times,serif\" font-size=\"14.00\">[Result]: 4</text>\n",
       "</g>\n",
       "<!-- &#45;6536785340432504731 -->\n",
       "<g id=\"node4\" class=\"node\">\n",
       "<title>&#45;6536785340432504731</title>\n",
       "<ellipse fill=\"none\" stroke=\"black\" cx=\"314.99\" cy=\"-235.4\" rx=\"193.08\" ry=\"59.29\"/>\n",
       "<text text-anchor=\"start\" x=\"186.49\" y=\"-262.2\" font-family=\"Times,serif\" font-size=\"14.00\">@g_func</text>\n",
       "<text text-anchor=\"start\" x=\"186.49\" y=\"-247.2\" font-family=\"Times,serif\" font-size=\"14.00\">def h():</text>\n",
       "<text text-anchor=\"start\" x=\"186.49\" y=\"-232.2\" font-family=\"Times,serif\" font-size=\"14.00\"> &#160;&#160;&#160;return b(x=0) + b(x=1) + b(x=2)</text>\n",
       "<text text-anchor=\"start\" x=\"186.49\" y=\"-201.2\" font-family=\"Times,serif\" font-size=\"14.00\">[Result]: 5</text>\n",
       "</g>\n",
       "<!-- &#45;6536785340432504731&#45;&gt;&#45;7795974675115468159 -->\n",
       "<g id=\"edge1\" class=\"edge\">\n",
       "<title>&#45;6536785340432504731&#45;&gt;&#45;7795974675115468159</title>\n",
       "<path fill=\"none\" stroke=\"black\" d=\"M242.16,-181.82C219.96,-165.02 195.44,-146.47 173,-129.49\"/>\n",
       "<path fill=\"none\" stroke=\"transparent\" d=\"M243.37,-180.22C221.17,-163.43 196.64,-144.87 174.2,-127.9\"/>\n",
       "<path fill=\"none\" stroke=\"black\" d=\"M244.58,-178.63C222.37,-161.83 197.85,-143.28 175.41,-126.3\"/>\n",
       "<polygon fill=\"black\" stroke=\"black\" points=\"176.13,-124.96 166.04,-121.72 171.9,-130.55 176.13,-124.96\"/>\n",
       "</g>\n",
       "<!-- &#45;6536785340432504731&#45;&gt;7940338014384298006 -->\n",
       "<g id=\"edge2\" class=\"edge\">\n",
       "<title>&#45;6536785340432504731&#45;&gt;7940338014384298006</title>\n",
       "<path fill=\"none\" stroke=\"black\" d=\"M312.99,-175.87C312.99,-167.58 312.99,-158.94 312.99,-150.34\"/>\n",
       "<path fill=\"none\" stroke=\"transparent\" d=\"M314.99,-175.87C314.99,-167.58 314.99,-158.94 314.99,-150.34\"/>\n",
       "<path fill=\"none\" stroke=\"black\" d=\"M316.99,-175.87C316.99,-167.58 316.99,-158.94 316.99,-150.34\"/>\n",
       "<polygon fill=\"black\" stroke=\"black\" points=\"318.5,-150.27 314.99,-140.27 311.5,-150.27 318.5,-150.27\"/>\n",
       "</g>\n",
       "<!-- &#45;6536785340432504731&#45;&gt;1435270433569361060 -->\n",
       "<g id=\"edge3\" class=\"edge\">\n",
       "<title>&#45;6536785340432504731&#45;&gt;1435270433569361060</title>\n",
       "<path fill=\"none\" stroke=\"black\" d=\"M385.41,-178.63C407.62,-161.83 432.14,-143.28 454.58,-126.3\"/>\n",
       "<path fill=\"none\" stroke=\"transparent\" d=\"M386.62,-180.22C408.82,-163.43 433.35,-144.87 455.79,-127.9\"/>\n",
       "<path fill=\"none\" stroke=\"black\" d=\"M387.83,-181.82C410.03,-165.02 434.55,-146.47 456.99,-129.49\"/>\n",
       "<polygon fill=\"black\" stroke=\"black\" points=\"458.09,-130.55 463.95,-121.72 453.86,-124.96 458.09,-130.55\"/>\n",
       "</g>\n",
       "</g>\n",
       "</svg>\n"
      ],
      "text/plain": [
       "<graphviz.files.Source at 0x7fe6a29f3d60>"
      ]
     },
     "metadata": {},
     "output_type": "display_data"
    }
   ],
   "source": [
    "@g_func\n",
    "def h():\n",
    "    return b(x=0) + b(x=1) + b(x=2)\n",
    "\n",
    "\n",
    "graph.clear()\n",
    "graph.trace_calls = False\n",
    "h()\n",
    "\n",
    "draw_graph()"
   ]
  },
  {
   "cell_type": "markdown",
   "metadata": {},
   "source": [
    "## Sensitivity of a on movement in c\n",
    "\n",
    "Just to conclude this demo. Let's plot a scatter graph of a against c. \n",
    "\n",
    "Despite the complicated tree, only function a is executed when we generate the plot."
   ]
  },
  {
   "cell_type": "code",
   "execution_count": 24,
   "metadata": {},
   "outputs": [
    {
     "data": {
      "text/plain": [
       "<matplotlib.axes._subplots.AxesSubplot at 0x7fe69efcecd0>"
      ]
     },
     "execution_count": 24,
     "metadata": {},
     "output_type": "execute_result"
    },
    {
     "data": {
      "image/png": "[encoded data removed]",
      "text/plain": [
       "<Figure size 432x288 with 1 Axes>"
      ]
     },
     "metadata": {
      "needs_background": "light"
     },
     "output_type": "display_data"
    }
   ],
   "source": [
    "import pandas as pd\n",
    "\n",
    "data = []\n",
    "\n",
    "for val in range(21):\n",
    "    graph.override_value('c', val, 1)\n",
    "    data.append((val, a()))\n",
    "    \n",
    "pd.DataFrame(data, columns=['c', 'a']).plot.scatter('c', 'a')"
   ]
  }
 ],
 "metadata": {
  "kernelspec": {
   "display_name": "Python 3",
   "language": "python",
   "name": "python3"
  },
  "language_info": {
   "codemirror_mode": {
    "name": "ipython",
    "version": 3
   },
   "file_extension": ".py",
   "mimetype": "text/x-python",
   "name": "python",
   "nbconvert_exporter": "python",
   "pygments_lexer": "ipython3",
   "version": "3.8.2"
  }
 },
 "nbformat": 4,
 "nbformat_minor": 4
}
